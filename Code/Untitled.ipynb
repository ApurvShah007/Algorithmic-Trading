{
 "cells": [
  {
   "cell_type": "code",
   "execution_count": 11,
   "metadata": {},
   "outputs": [],
   "source": [
    "import pandas as pd \n",
    "import lxml\n",
    "import matplotlib.pyplot as plt\n",
    "import seaborn as sns\n",
    "import numpy as np\n",
    "import talib\n",
    "import statsmodels.api as sm \n",
    "import os\n",
    "import yfinance as yf\n",
    "pd.options.display.float_format = '{:.3f}'.format"
   ]
  },
  {
   "cell_type": "code",
   "execution_count": 14,
   "metadata": {},
   "outputs": [
    {
     "name": "stdout",
     "output_type": "stream",
     "text": [
      "              Open    High     Low   Close      Volume  Dividends  \\\n",
      "Date                                                                \n",
      "1986-03-13   0.060   0.060   0.060   0.060  1031788800      0.000   \n",
      "1986-03-14   0.060   0.070   0.060   0.060   308160000      0.000   \n",
      "1986-03-17   0.060   0.070   0.060   0.070   133171200      0.000   \n",
      "1986-03-18   0.070   0.070   0.060   0.060    67766400      0.000   \n",
      "1986-03-19   0.060   0.060   0.060   0.060    47894400      0.000   \n",
      "...            ...     ...     ...     ...         ...        ...   \n",
      "2020-07-06 208.830 211.130 208.090 210.700    31897600      0.000   \n",
      "2020-07-07 210.450 214.670 207.990 208.250    33600700      0.000   \n",
      "2020-07-08 210.070 213.260 208.690 212.830    33600000      0.000   \n",
      "2020-07-09 216.330 216.380 211.470 214.320    33121700      0.000   \n",
      "2020-07-10 213.620 214.080 211.080 213.670    26149700      0.000   \n",
      "\n",
      "            Stock Splits  \n",
      "Date                      \n",
      "1986-03-13         0.000  \n",
      "1986-03-14         0.000  \n",
      "1986-03-17         0.000  \n",
      "1986-03-18         0.000  \n",
      "1986-03-19         0.000  \n",
      "...                  ...  \n",
      "2020-07-06         0.000  \n",
      "2020-07-07         0.000  \n",
      "2020-07-08         0.000  \n",
      "2020-07-09         0.000  \n",
      "2020-07-10         0.000  \n",
      "\n",
      "[8653 rows x 7 columns]\n"
     ]
    }
   ],
   "source": [
    "msft = yf.Ticker('MSFT')\n",
    "print(msft.history(period = 'max'))"
   ]
  },
  {
   "cell_type": "code",
   "execution_count": null,
   "metadata": {},
   "outputs": [],
   "source": []
  },
  {
   "cell_type": "code",
   "execution_count": null,
   "metadata": {},
   "outputs": [],
   "source": []
  }
 ],
 "metadata": {
  "kernelspec": {
   "display_name": "Python 3",
   "language": "python",
   "name": "python3"
  },
  "language_info": {
   "codemirror_mode": {
    "name": "ipython",
    "version": 3
   },
   "file_extension": ".py",
   "mimetype": "text/x-python",
   "name": "python",
   "nbconvert_exporter": "python",
   "pygments_lexer": "ipython3",
   "version": "3.8.3"
  }
 },
 "nbformat": 4,
 "nbformat_minor": 4
}
